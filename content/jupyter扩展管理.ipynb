{
 "cells": [
  {
   "cell_type": "markdown",
   "metadata": {
    "ExecuteTime": {
     "end_time": "2018-11-21T16:22:19.022255Z",
     "start_time": "2018-11-21T16:22:19.012246Z"
    }
   },
   "source": [
    "- title: Jupyter Notebook 扩展安装管理\n",
    "- author: spark\n",
    "- slug:Jupyter-notebook-extension-install-and-manager\n",
    "- date: 2018-11-22\n",
    "- category: 系统配置\n",
    "- tags: jupyter, plugins, extension,nbextension"
   ]
  },
  {
   "cell_type": "markdown",
   "metadata": {
    "lang": "zh-cn"
   },
   "source": [
    "### 介绍\n",
    "Notebook扩展是可以轻松添加到Jupyter笔记本中的插件。安装它们的最佳方法是使用Jupyter NbExtensions配置程序。它将添加一个选项卡以允许您启用/禁用扩展："
   ]
  },
  {
   "cell_type": "markdown",
   "metadata": {
    "lang": "zh-cn"
   },
   "source": [
    "### 安装"
   ]
  },
  {
   "cell_type": "code",
   "execution_count": null,
   "metadata": {},
   "outputs": [],
   "source": [
    "!pip install jupyter_nbextensions_configurator jupyter_contrib_nbextensions\n",
    "!jupyter contrib nbextension install --user\n",
    "!jupyter nbextensions_configurator enable --user"
   ]
  },
  {
   "cell_type": "markdown",
   "metadata": {},
   "source": [
    "### 使用\n",
    "访问http://localhost:8888/ipython/tree#nbextensions_configurator 即可进行插件配置\n",
    "常用的有：\n",
    "1. 翻译插件nbtranslate\n",
    "2. snippets\n",
    "3. Table of Content\n",
    "4. Autopep8\n",
    "5. ……"
   ]
  }
 ],
 "metadata": {
  "kernelspec": {
   "display_name": "Python 3",
   "language": "python",
   "name": "python3"
  },
  "language_info": {
   "codemirror_mode": {
    "name": "ipython",
    "version": 3
   },
   "file_extension": ".py",
   "mimetype": "text/x-python",
   "name": "python",
   "nbconvert_exporter": "python",
   "pygments_lexer": "ipython3",
   "version": "3.7.0"
  },
  "nbTranslate": {
   "displayLangs": [
    "zh-cn"
   ],
   "hotkey": "alt-t",
   "langInMainMenu": false,
   "sourceLang": "en",
   "targetLang": "zh-cn",
   "useGoogleTranslate": true
  },
  "toc": {
   "base_numbering": 1,
   "nav_menu": {},
   "number_sections": true,
   "sideBar": true,
   "skip_h1_title": false,
   "title_cell": "Table of Contents",
   "title_sidebar": "Contents",
   "toc_cell": false,
   "toc_position": {},
   "toc_section_display": true,
   "toc_window_display": true
  }
 },
 "nbformat": 4,
 "nbformat_minor": 2
}
