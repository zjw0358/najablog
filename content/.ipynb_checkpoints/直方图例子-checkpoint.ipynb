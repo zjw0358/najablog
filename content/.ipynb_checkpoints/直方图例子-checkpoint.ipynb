{
 "cells": [
  {
   "cell_type": "markdown",
   "metadata": {},
   "source": [
    "- title: 直方图例子\n",
    "- author: spark\n",
    "- slug:Histogram-example\n",
    "- date: 2018-11-26\n",
    "- category: 可视化\n",
    "- tags: plot, hist,直方图,可视化"
   ]
  },
  {
   "cell_type": "markdown",
   "metadata": {},
   "source": [
    "直方图主要用来查看数据分布情况"
   ]
  },
  {
   "cell_type": "markdown",
   "metadata": {},
   "source": [
    "### 读取数据"
   ]
  },
  {
   "cell_type": "code",
   "execution_count": 55,
   "metadata": {
    "ExecuteTime": {
     "end_time": "2018-11-26T05:42:55.198785Z",
     "start_time": "2018-11-26T05:42:55.172726Z"
    }
   },
   "outputs": [],
   "source": [
    "import numpy as np\n",
    "import pandas as pd\n",
    "import matplotlib.pyplot as plt \n",
    "%matplotlib inline"
   ]
  },
  {
   "cell_type": "code",
   "execution_count": 56,
   "metadata": {
    "ExecuteTime": {
     "end_time": "2018-11-26T05:43:01.531027Z",
     "start_time": "2018-11-26T05:42:57.620936Z"
    }
   },
   "outputs": [],
   "source": [
    "df = pd.read_csv('/Users/spark/Downloads/nyc_fare.csv')"
   ]
  },
  {
   "cell_type": "markdown",
   "metadata": {},
   "source": [
    "### 查看数据"
   ]
  },
  {
   "cell_type": "code",
   "execution_count": 4,
   "metadata": {
    "ExecuteTime": {
     "end_time": "2018-11-26T04:23:54.905285Z",
     "start_time": "2018-11-26T04:23:54.394731Z"
    }
   },
   "outputs": [
    {
     "data": {
      "text/html": [
       "<div>\n",
       "<style scoped>\n",
       "    .dataframe tbody tr th:only-of-type {\n",
       "        vertical-align: middle;\n",
       "    }\n",
       "\n",
       "    .dataframe tbody tr th {\n",
       "        vertical-align: top;\n",
       "    }\n",
       "\n",
       "    .dataframe thead th {\n",
       "        text-align: right;\n",
       "    }\n",
       "</style>\n",
       "<table border=\"1\" class=\"dataframe\">\n",
       "  <thead>\n",
       "    <tr style=\"text-align: right;\">\n",
       "      <th></th>\n",
       "      <th>fare_amount</th>\n",
       "      <th>surcharge</th>\n",
       "      <th>mta_tax</th>\n",
       "      <th>tip_amount</th>\n",
       "      <th>tolls_amount</th>\n",
       "      <th>total_amount</th>\n",
       "    </tr>\n",
       "  </thead>\n",
       "  <tbody>\n",
       "    <tr>\n",
       "      <th>count</th>\n",
       "      <td>846945.000000</td>\n",
       "      <td>846945.000000</td>\n",
       "      <td>846945.000000</td>\n",
       "      <td>846945.00000</td>\n",
       "      <td>846945.000000</td>\n",
       "      <td>846945.000000</td>\n",
       "    </tr>\n",
       "    <tr>\n",
       "      <th>mean</th>\n",
       "      <td>12.190578</td>\n",
       "      <td>0.320303</td>\n",
       "      <td>0.499305</td>\n",
       "      <td>1.34466</td>\n",
       "      <td>0.232142</td>\n",
       "      <td>14.587073</td>\n",
       "    </tr>\n",
       "    <tr>\n",
       "      <th>std</th>\n",
       "      <td>9.514150</td>\n",
       "      <td>0.772642</td>\n",
       "      <td>0.057844</td>\n",
       "      <td>2.09149</td>\n",
       "      <td>1.109164</td>\n",
       "      <td>11.380950</td>\n",
       "    </tr>\n",
       "    <tr>\n",
       "      <th>min</th>\n",
       "      <td>-648.420000</td>\n",
       "      <td>-1.000000</td>\n",
       "      <td>-0.500000</td>\n",
       "      <td>0.00000</td>\n",
       "      <td>0.000000</td>\n",
       "      <td>-52.500000</td>\n",
       "    </tr>\n",
       "    <tr>\n",
       "      <th>25%</th>\n",
       "      <td>6.500000</td>\n",
       "      <td>0.000000</td>\n",
       "      <td>0.500000</td>\n",
       "      <td>0.00000</td>\n",
       "      <td>0.000000</td>\n",
       "      <td>8.000000</td>\n",
       "    </tr>\n",
       "    <tr>\n",
       "      <th>50%</th>\n",
       "      <td>9.500000</td>\n",
       "      <td>0.000000</td>\n",
       "      <td>0.500000</td>\n",
       "      <td>1.00000</td>\n",
       "      <td>0.000000</td>\n",
       "      <td>11.000000</td>\n",
       "    </tr>\n",
       "    <tr>\n",
       "      <th>75%</th>\n",
       "      <td>14.000000</td>\n",
       "      <td>0.500000</td>\n",
       "      <td>0.500000</td>\n",
       "      <td>2.00000</td>\n",
       "      <td>0.000000</td>\n",
       "      <td>16.500000</td>\n",
       "    </tr>\n",
       "    <tr>\n",
       "      <th>max</th>\n",
       "      <td>620.010000</td>\n",
       "      <td>628.840000</td>\n",
       "      <td>41.490000</td>\n",
       "      <td>200.00000</td>\n",
       "      <td>100.660000</td>\n",
       "      <td>620.010000</td>\n",
       "    </tr>\n",
       "  </tbody>\n",
       "</table>\n",
       "</div>"
      ],
      "text/plain": [
       "         fare_amount      surcharge        mta_tax    tip_amount  \\\n",
       "count  846945.000000  846945.000000  846945.000000  846945.00000   \n",
       "mean       12.190578       0.320303       0.499305       1.34466   \n",
       "std         9.514150       0.772642       0.057844       2.09149   \n",
       "min      -648.420000      -1.000000      -0.500000       0.00000   \n",
       "25%         6.500000       0.000000       0.500000       0.00000   \n",
       "50%         9.500000       0.000000       0.500000       1.00000   \n",
       "75%        14.000000       0.500000       0.500000       2.00000   \n",
       "max       620.010000     628.840000      41.490000     200.00000   \n",
       "\n",
       "        tolls_amount   total_amount  \n",
       "count  846945.000000  846945.000000  \n",
       "mean        0.232142      14.587073  \n",
       "std         1.109164      11.380950  \n",
       "min         0.000000     -52.500000  \n",
       "25%         0.000000       8.000000  \n",
       "50%         0.000000      11.000000  \n",
       "75%         0.000000      16.500000  \n",
       "max       100.660000     620.010000  "
      ]
     },
     "execution_count": 4,
     "metadata": {},
     "output_type": "execute_result"
    }
   ],
   "source": [
    "df.describe()"
   ]
  },
  {
   "cell_type": "markdown",
   "metadata": {},
   "source": [
    "这里可以看到fare_amount的最大值虽然是620，但是75%分位数是14，所以大部分数字都应该不是很大，我们后面采用50来观察他的分布情况"
   ]
  },
  {
   "cell_type": "markdown",
   "metadata": {},
   "source": [
    "### 可视化数据"
   ]
  },
  {
   "cell_type": "code",
   "execution_count": 57,
   "metadata": {
    "ExecuteTime": {
     "end_time": "2018-11-26T05:43:06.543597Z",
     "start_time": "2018-11-26T05:43:06.536275Z"
    }
   },
   "outputs": [],
   "source": [
    "bin_array = np.linspace(start=0., stop=50., num=100)"
   ]
  },
  {
   "cell_type": "code",
   "execution_count": 58,
   "metadata": {
    "ExecuteTime": {
     "end_time": "2018-11-26T05:43:08.751811Z",
     "start_time": "2018-11-26T05:43:08.005463Z"
    },
    "scrolled": false
   },
   "outputs": [
    {
     "data": {
      "text/plain": [
       "<matplotlib.axes._subplots.AxesSubplot at 0x116bdff60>"
      ]
     },
     "execution_count": 58,
     "metadata": {},
     "output_type": "execute_result"
    },
    {
     "data": {
      "image/png": "[encoded data removed]",
      "text/plain": [
       "<Figure size 432x288 with 1 Axes>"
      ]
     },
     "metadata": {},
     "output_type": "display_data"
    }
   ],
   "source": [
    "df.fare_amount.hist(bins=bin_array)"
   ]
  },
  {
   "cell_type": "markdown",
   "metadata": {
    "lang": "en"
   },
   "source": [
    "this is english"
   ]
  },
  {
   "cell_type": "markdown",
   "metadata": {
    "lang": "zh"
   },
   "source": [
    "这是英语"
   ]
  }
 ],
 "metadata": {
  "kernelspec": {
   "display_name": "Python 3",
   "language": "python",
   "name": "python3"
  },
  "language_info": {
   "codemirror_mode": {
    "name": "ipython",
    "version": 3
   },
   "file_extension": ".py",
   "mimetype": "text/x-python",
   "name": "python",
   "nbconvert_exporter": "python",
   "pygments_lexer": "ipython3",
   "version": "3.7.0"
  },
  "nbTranslate": {
   "displayLangs": [],
   "hotkey": "alt-t",
   "langInMainMenu": true,
   "sourceLang": "en",
   "targetLang": "zh",
   "useGoogleTranslate": true
  },
  "toc": {
   "base_numbering": 1,
   "nav_menu": {},
   "number_sections": false,
   "sideBar": true,
   "skip_h1_title": false,
   "title_cell": "Table of Contents",
   "title_sidebar": "Contents",
   "toc_cell": false,
   "toc_position": {},
   "toc_section_display": true,
   "toc_window_display": true
  }
 },
 "nbformat": 4,
 "nbformat_minor": 2
}
