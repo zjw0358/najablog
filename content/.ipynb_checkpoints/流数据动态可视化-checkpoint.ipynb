{
 "cells": [
  {
   "cell_type": "markdown",
   "metadata": {
    "ExecuteTime": {
     "end_time": "2018-11-21T17:09:11.580374Z",
     "start_time": "2018-11-21T17:09:11.568709Z"
    }
   },
   "source": [
    "- title: python流数据动态可视化\n",
    "- author: spark\n",
    "- slug:Dynamic-visualization-of-Python-stream-data\n",
    "- date: 2018-11-22\n",
    "- category:可视化\n",
    "- tags: 可视化,holoviews,holospot,stream"
   ]
  },
  {
   "cell_type": "markdown",
   "metadata": {
    "lang": "en"
   },
   "source": [
    "## Streaming Data"
   ]
  },
  {
   "cell_type": "markdown",
   "metadata": {
    "lang": "zh-cn"
   },
   "source": [
    "“流数据”是连续生成的数据，通常由某些外部源（如远程网站，测量设备或模拟器）生成。这种数据在金融时间序列，Web服务器日志，科学应用程序和许多其他情况下很常见。我们已经了解了如何在[实时数据]（06-Live _Data.ipynb）用户指南中显示可调用的任何数据输出，我们还看到了如何使用HoloViews流系统在用户指南中推送事件部分[响应事件]（11-响应_到_Events.ipynb）和[自定义交互]（12-Custom_ Interactivity.ipynb）。\n",
    "\n",
    "本用户指南显示了使用``DynamicMap``和流构建交互式绘图的第三种方法。在这里，不是将绘图元数据（例如缩放范围，用户触发的事件，如“Tap”等）推送到``DynamicMap``回调，而是使用HoloViews直接更新可视化元素中的基础数据。 `Stream``。\n",
    "\n",
    "特别是，我们将展示如何使用HoloViews的``Pipe``和``Buffer``流来处理流数据源，而无需从``DynamicMap``可调用内部获取或生成数据。除了简单地从“DynamicMap”外部设置元素数据之外，我们还将探索使用可选单独[``streamz``]协调的流数据处理方法\n",
    "（http://matthewrocklin.com/blog/work/来自MattRocklin的2017/10/16/streaming-dataframes-1） \n",
    "库可以使构建复杂的流媒体管道变得更加简单。\n",
    "\n",
    "\n",
    "请注意，此页面演示了需要实时运行的Python服务器的功能。当导出到pyviz.org网站上的静态HTML页面时，您将只看到一个图。当将此代码作为Jupyter笔记本运行时，您应该逐个单元地执行它以依次查看每个操作的效果。"
   ]
  },
  {
   "cell_type": "code",
   "execution_count": null,
   "metadata": {
    "ExecuteTime": {
     "end_time": "2018-11-29T15:29:14.880053Z",
     "start_time": "2018-11-29T15:29:12.580485Z"
    }
   },
   "outputs": [],
   "source": [
    "import time\n",
    "import numpy as np\n",
    "import pandas as pd\n",
    "import holoviews as hv\n",
    "\n",
    "from holoviews.streams import Pipe, Buffer\n",
    "\n",
    "import streamz\n",
    "import streamz.dataframe\n",
    "\n",
    "hv.extension('bokeh')"
   ]
  },
  {
   "cell_type": "markdown",
   "metadata": {
    "lang": "zh-cn"
   },
   "source": [
    "## ``Pipe``\n",
    "\n",
    "``Pipe``允许将数据推送到DynamicMap回调中以更改可视化，就像[响应事件]（./ 11-Responding _to_ Events.ipynb）用户指南中的流一样用于将更改推送到控制可视化的元数据。可以使用``Pipe``来推送任何类型的数据，并使其可用于``DynamicMap``回调。由于所有``Element``类型接受各种形式的``data``，我们可以使用``Pipe``通过DynamicMap将数据直接推送到``Element``的构造函数。\n",
    "\n",
    "\n",
    "我们可以利用大多数元素可以在不提供任何数据的情况下实例化的事实，因此我们使用空列表声明``Pipe``并声明``DynamicMap``，将管道作为流提供，这将动态更新``VectorField``："
   ]
  },
  {
   "cell_type": "code",
   "execution_count": null,
   "metadata": {
    "ExecuteTime": {
     "end_time": "2018-11-21T16:59:24.931890Z",
     "start_time": "2018-11-21T16:59:24.702708Z"
    }
   },
   "outputs": [],
   "source": [
    "pipe = Pipe([])\n",
    "vector_dmap = hv.DynamicMap(hv.VectorField, streams=[pipe])\n",
    "vector_dmap.redim.range(x=(-1, 1), y=(-1, 1))"
   ]
  },
  {
   "cell_type": "markdown",
   "metadata": {
    "lang": "zh-cn"
   },
   "source": [
    "设置这个``VectorField``绑定到``Pipe``后，我们可以开始向它推送数据，改变VectorField的方向："
   ]
  },
  {
   "cell_type": "code",
   "execution_count": null,
   "metadata": {
    "ExecuteTime": {
     "end_time": "2018-11-21T16:59:29.277828Z",
     "start_time": "2018-11-21T16:59:25.958744Z"
    }
   },
   "outputs": [],
   "source": [
    "x,y  = np.mgrid[-10:11,-10:11] * 0.1\n",
    "sine_rings  = np.sin(x**2+y**2)*np.pi+np.pi\n",
    "exp_falloff = 1/np.exp((x**2+y**2)/8)\n",
    "\n",
    "for i in np.linspace(0, 1, 25):\n",
    "    time.sleep(0.1)\n",
    "    pipe.send([x,y,sine_rings*i, exp_falloff])"
   ]
  },
  {
   "cell_type": "markdown",
   "metadata": {
    "lang": "zh-cn"
   },
   "source": [
    "这种直接使用元素构造函数的方法不允许您使用除默认键和值维之外的任何内容。这个限制的一个简单的解决方法是使用``functools.partial``，如下面**控制长度部分**中所示。\n",
    "\n",
    "由于``Pipe``是完全通用的，数据可以是任何自定义类型，因此它提供了一种完整的通用机制来传输结构化或非结构化数据。由于这种普遍性，``Pipe``在使用下一节中描述的``Buffer``流时不提供一些更复杂的功能和优化。"
   ]
  },
  {
   "cell_type": "markdown",
   "metadata": {
    "lang": "zh-cn"
   },
   "source": [
    "## ``Buffer``\n",
    "\n",
    "虽然``Pipe``提供了将任意数据传递给``DynamicMap``回调的通用解决方案，但另一方面``Buffer``提供了一种非常强大的方法来处理流表格数据，定义为pandas数据帧，数组，或列的词典（以及StreamingDataFrame，稍后我们将介绍）。 ``Buffer``自动累积表格数据的最后一行``N``行，其中``N``由``length``定义。\n",
    "\n",
    "累积数据的能力允许对最近的数据历史执行操作，而绘制后端（例如散景）可以通过仅发送最新的补丁来优化绘图更新。只有当``Buffer``持有的``data``对象与绘制的``Element``数据相同时，此优化才有效，否则所有数据都将正常更新。"
   ]
  },
  {
   "cell_type": "markdown",
   "metadata": {
    "lang": "zh-cn"
   },
   "source": [
    "#### 一个简单的例子：布朗运动\n",
    "\n",
    "要初始化``Buffer``，我们必须提供一个示例数据集，它定义我们将要流式传输的数据的列和dtypes。接下来，我们定义``length``以保留最后100行数据。如果数据是DataFrame，我们可以指定是否还要使用``DataFrame````index``。在这种情况下，我们将简单地定义我们想要绘制'x'和'y'位置的``DataFrame``和'count'作为``Points``和``Curve``元素："
   ]
  },
  {
   "cell_type": "code",
   "execution_count": null,
   "metadata": {
    "ExecuteTime": {
     "end_time": "2018-11-21T16:59:29.298924Z",
     "start_time": "2018-11-21T16:59:29.282185Z"
    }
   },
   "outputs": [],
   "source": [
    "example = pd.DataFrame({'x': [], 'y': [], 'count': []}, columns=['x', 'y', 'count'])\n",
    "dfstream = Buffer(example, length=100, index=False)\n",
    "curve_dmap = hv.DynamicMap(hv.Curve, streams=[dfstream])\n",
    "point_dmap = hv.DynamicMap(hv.Points, streams=[dfstream])"
   ]
  },
  {
   "cell_type": "markdown",
   "metadata": {
    "lang": "zh-cn"
   },
   "source": [
    "应用了一些样式后，我们将显示动态“曲线”和“点”的“叠加”。"
   ]
  },
  {
   "cell_type": "code",
   "execution_count": null,
   "metadata": {
    "ExecuteTime": {
     "end_time": "2018-11-21T16:59:30.363983Z",
     "start_time": "2018-11-21T16:59:30.133449Z"
    }
   },
   "outputs": [],
   "source": [
    "%%opts Points [color_index='count', xaxis=None, yaxis=None] (line_color='black', size=5)\n",
    "%%opts Curve (line_width=1, color='black')\n",
    "curve_dmap * point_dmap"
   ]
  },
  {
   "cell_type": "markdown",
   "metadata": {
    "lang": "zh-cn"
   },
   "source": [
    "现在我们已经设置了``Buffer``并定义了一个``DynamicMap``来绘制数据，我们可以开始向它推送数据。我们将定义一个简单的函数，通过累积x，y位置来模拟布朗运动。我们可以通过``hv.streams.Buffer``直接“发送”`数据。"
   ]
  },
  {
   "cell_type": "code",
   "execution_count": null,
   "metadata": {
    "ExecuteTime": {
     "end_time": "2018-11-21T16:59:40.578575Z",
     "start_time": "2018-11-21T16:59:31.863295Z"
    }
   },
   "outputs": [],
   "source": [
    "def gen_brownian():\n",
    "    x, y, count = 0, 0, 0\n",
    "    while True:\n",
    "        x += np.random.randn()\n",
    "        y += np.random.randn()\n",
    "        count += 1\n",
    "        yield pd.DataFrame([(x, y, count)], columns=['x', 'y', 'count'])\n",
    "\n",
    "brownian = gen_brownian()\n",
    "for i in range(200):\n",
    "    dfstream.send(next(brownian))"
   ]
  },
  {
   "cell_type": "markdown",
   "metadata": {
    "lang": "zh-cn"
   },
   "source": [
    "最后，我们可以使用``clear``方法清除流和绘图上的数据："
   ]
  },
  {
   "cell_type": "code",
   "execution_count": null,
   "metadata": {
    "ExecuteTime": {
     "end_time": "2018-11-21T16:59:40.585899Z",
     "start_time": "2018-11-21T16:59:40.581861Z"
    }
   },
   "outputs": [],
   "source": [
    "#dfstream.clear()"
   ]
  },
  {
   "cell_type": "markdown",
   "metadata": {
    "lang": "zh-cn"
   },
   "source": [
    "## 使用Streamz库\n",
    "\n",
    "现在我们已经发现了什么``Pipe``和``Buffer``可以做它的时间来展示如何将它们与``streamz``库一起使用。虽然HoloViews不依赖于``streamz``并且您可以使用流功能而无需了解``streamz``，但这两个库可以很好地协同工作，允许您构建管道来管理连续的数据流。 Streamz易于用于简单的任务，但也支持复杂的管道，涉及分支，连接，流量控制，反馈等。这里我们主要关注将streamz输出连接到``Pipe``然后``Buffer``以获得有关streamz API的更多细节，请参阅[streamz文档]（https://streamz.readthedocs.io/en/最新/）。\n",
    "\n",
    "#### 将``streamz.Stream``和``Pipe``一起使用\n",
    "\n",
    "让我们从一个相当简单的例子开始：\n",
    "\n",
    "1. 声明一个``streamz.Stream``和一个``Pipe``对象，并将它们连接到一个我们可以推送数据的管道中。\n",
    "2. 使用20的``sliding_window``，它将首先等待20组流更新累积。此时，对于每个后续更新，它将应用``pd.concat``将最近的20个更新组合到一个新的数据帧中。\n",
    "3. 使用``streamz.Stream``上的``sink``方法来``send``得到20个更新为``Pipe``的集合。\n",
    "4. 声明一个``DynamicMap``，它采用连接的DataFrames的滑动窗口，并使用``Scatter``元素显示它。\n",
    "5. 用“计数”对“散点图”点进行着色并设置范围，然后显示："
   ]
  },
  {
   "cell_type": "code",
   "execution_count": null,
   "metadata": {
    "ExecuteTime": {
     "end_time": "2018-11-21T16:59:40.599710Z",
     "start_time": "2018-11-21T16:59:40.592169Z"
    }
   },
   "outputs": [],
   "source": [
    "point_source = streamz.Stream()\n",
    "pipe = Pipe(data=[])\n",
    "point_source.sliding_window(20).map(pd.concat).sink(pipe.send) # Connect streamz to the Pipe\n",
    "scatter_dmap = hv.DynamicMap(hv.Scatter, streams=[pipe])"
   ]
  },
  {
   "cell_type": "markdown",
   "metadata": {
    "lang": "zh-cn"
   },
   "source": [
    "设置完流媒体管道后，我们可以再次显示它："
   ]
  },
  {
   "cell_type": "code",
   "execution_count": null,
   "metadata": {
    "ExecuteTime": {
     "end_time": "2018-11-21T16:59:40.749935Z",
     "start_time": "2018-11-21T16:59:40.605240Z"
    }
   },
   "outputs": [],
   "source": [
    "%%opts Scatter [color_index='count', bgcolor='black']\n",
    "scatter_dmap.redim.range(y=(-4, 4))"
   ]
  },
  {
   "cell_type": "markdown",
   "metadata": {
    "lang": "zh-cn"
   },
   "source": [
    "现在有一个管道，但最初这个图是空的，因为没有数据发送到它。要查看情节更新，让我们使用``streamz.Stream``的``emit``方法将小块随机大熊猫``DataFrame``s发送到我们的情节："
   ]
  },
  {
   "cell_type": "code",
   "execution_count": null,
   "metadata": {
    "ExecuteTime": {
     "end_time": "2018-11-21T16:59:47.944871Z",
     "start_time": "2018-11-21T16:59:43.770178Z"
    }
   },
   "outputs": [],
   "source": [
    "for i in range(100):\n",
    "    df = pd.DataFrame({'x': np.random.rand(100), 'y': np.random.randn(100), 'count': i},\n",
    "                      columns=['x', 'y', 'count'])\n",
    "    point_source.emit(df)"
   ]
  },
  {
   "cell_type": "markdown",
   "metadata": {
    "lang": "zh-cn"
   },
   "source": [
    "#### 使用StreamingDataFrame和StreamingSeries\n",
    "\n",
    "streamz库（版本0.2）提供了``StreamingDataFrame``和``StreamingSeries``，它是一种轻松处理表格数据实时源的有效方法。这使得它非常适合使用``Buffer``。 （在版本0.3``streamz``已经重命名了类来删除``Streaming``，所以这里的代码需要更新以用于后来的``streamz``版本。）使用``StreamingDataFrame``我们可以轻松传输数据，应用累积和滚动统计等计算，然后使用HoloViews可视化数据。\n",
    "\n",
    "``streamz.dataframe``模块提供了一个``Random``实用程序，它生成一个``StreamingDataFrame``，它以指定的间隔发出一定频率的随机数据。 ``example``属性让我们可以看到我们可以期待的数据的结构和dtypes："
   ]
  },
  {
   "cell_type": "code",
   "execution_count": null,
   "metadata": {
    "ExecuteTime": {
     "end_time": "2018-11-21T16:59:48.148279Z",
     "start_time": "2018-11-21T16:59:48.133483Z"
    }
   },
   "outputs": [],
   "source": [
    "simple_sdf = streamz.dataframe.Random(freq='10ms', interval='100ms')\n",
    "print(simple_sdf.index)\n",
    "simple_sdf.example.dtypes"
   ]
  },
  {
   "cell_type": "markdown",
   "metadata": {
    "lang": "zh-cn"
   },
   "source": [
    "由于``StreamingDataFrame``提供了类似pandas的API，我们可以直接指定对数据的操作。在这个例子中，我们减去一个固定的偏移，然后计算累积和，给我们一个随机漂移的时间序列。然后我们可以将这个数据帧的x值传递给HoloViews的``Buffer``并提供``hv.Curve``作为``DynamicMap``回调，将数据流式传输到HoloViews``Curve``（带有默认键和值维度）："
   ]
  },
  {
   "cell_type": "code",
   "execution_count": null,
   "metadata": {
    "ExecuteTime": {
     "end_time": "2018-11-21T16:59:50.005101Z",
     "start_time": "2018-11-21T16:59:49.827965Z"
    }
   },
   "outputs": [],
   "source": [
    "%%opts Curve [width=500 show_grid=True]\n",
    "sdf1 = (simple_sdf-0.5).cumsum()\n",
    "hv.DynamicMap(hv.Curve, streams=[Buffer(sdf1.x)])"
   ]
  },
  {
   "cell_type": "markdown",
   "metadata": {
    "lang": "zh-cn"
   },
   "source": [
    "``Random`` StreamingDataFrame将异步发出事件，向前驱动可视化，直到它被显式停止，我们可以通过调用``stop``方法来做。"
   ]
  },
  {
   "cell_type": "code",
   "execution_count": null,
   "metadata": {
    "ExecuteTime": {
     "end_time": "2018-11-21T16:59:53.969638Z",
     "start_time": "2018-11-21T16:59:53.964593Z"
    }
   },
   "outputs": [],
   "source": [
    "simple_sdf.stop()"
   ]
  },
  {
   "cell_type": "markdown",
   "metadata": {
    "lang": "zh-cn"
   },
   "source": [
    "#### 使用``StreamingDataFrame`` API\n",
    "\n",
    "到目前为止，我们只计算了累积和，但是``StreamingDataFrame``实际上有一个广泛的API，可以让我们对我们的数据进行广泛的流式计算。例如，让我们将滚动均值应用于我们的x值，窗口为500毫秒，并将其叠加在“原始”数据之上："
   ]
  },
  {
   "cell_type": "code",
   "execution_count": null,
   "metadata": {
    "ExecuteTime": {
     "end_time": "2018-11-21T16:59:56.406643Z",
     "start_time": "2018-11-21T16:59:56.383769Z"
    }
   },
   "outputs": [],
   "source": [
    "source_df = streamz.dataframe.Random(freq='5ms', interval='100ms')\n",
    "sdf2 = (source_df-0.5).cumsum()\n",
    "sdf2.tail()"
   ]
  },
  {
   "cell_type": "code",
   "execution_count": null,
   "metadata": {
    "ExecuteTime": {
     "end_time": "2018-11-21T16:59:58.144779Z",
     "start_time": "2018-11-21T16:59:57.952184Z"
    }
   },
   "outputs": [],
   "source": [
    "raw       = hv.DynamicMap(hv.Curve, streams=[Buffer(sdf2.x)]).relabel('raw')\n",
    "smooth    = hv.DynamicMap(hv.Curve, streams=[Buffer(sdf2.x.rolling('500ms').mean())]).relabel('smooth')\n",
    "\n",
    "raw * smooth.options(width=900,height=350)"
   ]
  },
  {
   "cell_type": "code",
   "execution_count": null,
   "metadata": {
    "ExecuteTime": {
     "end_time": "2018-11-21T17:00:02.541770Z",
     "start_time": "2018-11-21T17:00:02.533947Z"
    }
   },
   "outputs": [],
   "source": [
    "source_df.stop()"
   ]
  },
  {
   "cell_type": "markdown",
   "metadata": {
    "lang": "zh-cn"
   },
   "source": [
    "## 对流数据的操作\n",
    "\n",
    "正如我们在上面发现的那样，``Buffer``让我们设置一个``length``，它定义了我们想要累积的行数。我们可以利用这个优势并在此长度窗口上应用操作。在这个例子中，我们声明一个``Dataset``然后应用``histogram``操作来计算指定``length``窗口上的``Histogram``："
   ]
  },
  {
   "cell_type": "code",
   "execution_count": null,
   "metadata": {
    "ExecuteTime": {
     "end_time": "2018-11-21T17:00:48.640183Z",
     "start_time": "2018-11-21T17:00:48.542955Z"
    }
   },
   "outputs": [],
   "source": [
    "hist_source = streamz.dataframe.Random(freq='5ms', interval='100ms')\n",
    "sdf4 = (hist_source-0.5).cumsum()\n",
    "\n",
    "dmap = hv.DynamicMap(hv.Dataset, streams=[Buffer(sdf4.x, length=500)])\n",
    "hv.operation.histogram(dmap, dimension='x')"
   ]
  },
  {
   "cell_type": "code",
   "execution_count": null,
   "metadata": {
    "ExecuteTime": {
     "end_time": "2018-11-21T17:00:52.332917Z",
     "start_time": "2018-11-21T17:00:52.328961Z"
    }
   },
   "outputs": [],
   "source": [
    "hist_source.stop()"
   ]
  },
  {
   "cell_type": "markdown",
   "metadata": {
    "lang": "zh-cn"
   },
   "source": [
    "####  Datashading\n",
    "\n",
    "同样的方法也适用于数据分析器操作，即使我们使它非常大（在这种情况下为100万个样本），也让我们对整个“长度”窗口进行数据分析："
   ]
  },
  {
   "cell_type": "code",
   "execution_count": null,
   "metadata": {
    "ExecuteTime": {
     "end_time": "2018-11-21T17:06:28.138504Z",
     "start_time": "2018-11-21T17:06:26.250965Z"
    },
    "scrolled": true
   },
   "outputs": [],
   "source": [
    "%%opts RGB [width=600]\n",
    "from holoviews.operation.datashader import datashade\n",
    "from bokeh.palettes import Blues8\n",
    "large_source = streamz.dataframe.Random(freq='100us', interval='200ms')\n",
    "sdf5 = (large_source-0.5).cumsum()\n",
    "\n",
    "dmap = hv.DynamicMap(hv.Curve, streams=[Buffer(sdf5.x, length=1000000)])\n",
    "datashade(dmap, streams=[hv.streams.PlotSize], normalization='linear', cmap=Blues8)"
   ]
  },
  {
   "cell_type": "code",
   "execution_count": null,
   "metadata": {
    "ExecuteTime": {
     "end_time": "2018-11-21T17:06:30.522067Z",
     "start_time": "2018-11-21T17:06:30.514909Z"
    }
   },
   "outputs": [],
   "source": [
    "large_source.stop()"
   ]
  },
  {
   "cell_type": "markdown",
   "metadata": {
    "lang": "zh-cn"
   },
   "source": [
    "## 使用tornado``IOLoop``进行异步更新\n",
    "\n",
    "在大多数情况下，您不希望在同一个Python进程中手动推送更新，而是希望对象在新数据到达时异步更新。由于Jupyter和Bokeh服务器都在[tornado]（http://www.tornadoweb.org/en/stable/）上运行，我们可以在两种情况下使用tornado``IOLoop``来定义非阻塞协同例程这可以在数据准备就绪时将数据推送到我们的流中。"
   ]
  },
  {
   "cell_type": "code",
   "execution_count": null,
   "metadata": {
    "ExecuteTime": {
     "end_time": "2018-11-21T17:06:34.329972Z",
     "start_time": "2018-11-21T17:06:34.174068Z"
    }
   },
   "outputs": [],
   "source": [
    "%%opts Curve [width=600]\n",
    "from tornado.ioloop import PeriodicCallback\n",
    "\n",
    "count = 0\n",
    "buffer = Buffer(np.zeros((0, 2)), length=50)\n",
    "\n",
    "def f():\n",
    "    global count\n",
    "    count += 1\n",
    "    buffer.send(np.array([[count, np.random.rand()]]))\n",
    "    \n",
    "cb = PeriodicCallback(f, 100)\n",
    "cb.start()\n",
    "\n",
    "hv.DynamicMap(hv.Curve, streams=[buffer]).redim.range(y=(0, 1))"
   ]
  },
  {
   "cell_type": "code",
   "execution_count": null,
   "metadata": {
    "ExecuteTime": {
     "end_time": "2018-11-21T17:06:37.351699Z",
     "start_time": "2018-11-21T17:06:37.346700Z"
    }
   },
   "outputs": [],
   "source": [
    "cb.stop()"
   ]
  },
  {
   "cell_type": "markdown",
   "metadata": {
    "lang": "zh-cn"
   },
   "source": [
    "在这里，当您执行笔记本电脑时，图表应该像以前一样更新100次，但现在通过Tornado IOLoop不会阻止其他交互并在笔记本中工作。\n",
    "\n",
    "## 真实的例子\n",
    "\n",
    "使用``Pipe``和``Buffer``流我们可以非常容易地创建复杂的流图。除了我们在本指南中介绍的玩具示例之外，还有必要查看使用真实，实时，流数据的一些示例。\n",
    "\n",
    "* [streaming _psutil]（http://holoviews.org/gallery/apps/bokeh/stream_ psutil.html）散景应用程序是一个这样的例子，使用``psutil`显示CPU和内存信息`library（用``pip install psutil``或``conda install psutil``安装）\n",
    "\n",
    "<img class=\"gif\" src=\"http://assets.holoviews.org/gifs/guides/user_guide/Streaming_Data/streamz9.gif\"></img>\n",
    "\n",
    "如您所见，流数据通常像HoloViews中的流一样工作，在显式控制下灵活处理随时间变化或由某些外部数据源控制。\n",
    "\n",
    "本教程的最后几节将介绍如何将目前为止所涉及的所有概念纳入交互式Web应用程序以处理大型或小型数据集，首先介绍[参数和小部件]（./ 12 <_>参数<_> and_Widgets.ipynb）。"
   ]
  }
 ],
 "metadata": {
  "kernelspec": {
   "display_name": "Python 3",
   "language": "python",
   "name": "python3"
  },
  "language_info": {
   "codemirror_mode": {
    "name": "ipython",
    "version": 3
   },
   "file_extension": ".py",
   "mimetype": "text/x-python",
   "name": "python",
   "nbconvert_exporter": "python",
   "pygments_lexer": "ipython3",
   "version": "3.7.0"
  },
  "nbTranslate": {
   "displayLangs": [
    "en",
    "zh-cn"
   ],
   "hotkey": "alt-t",
   "langInMainMenu": true,
   "sourceLang": "en",
   "targetLang": "zh-cn",
   "useGoogleTranslate": true
  },
  "toc": {
   "base_numbering": 1,
   "nav_menu": {},
   "number_sections": false,
   "sideBar": true,
   "skip_h1_title": false,
   "title_cell": "Table of Contents",
   "title_sidebar": "Contents",
   "toc_cell": false,
   "toc_position": {},
   "toc_section_display": true,
   "toc_window_display": true
  }
 },
 "nbformat": 4,
 "nbformat_minor": 2
}
