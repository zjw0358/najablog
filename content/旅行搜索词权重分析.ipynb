{
 "cells": [
  {
   "cell_type": "markdown",
   "metadata": {
    "lang": "en"
   },
   "source": [
    "- title: 旅行搜索词权重分析\n",
    "- author: spark\n",
    "- slug:traval-search-query-weight-analysis\n",
    "- date: 2018-11-20\n",
    "- category:自然语言\n",
    "- tags: nlp,jupyter,jieba,query"
   ]
  },
  {
   "cell_type": "markdown",
   "metadata": {},
   "source": [
    "### 加载搜索日志\n",
    ">加载某天用户query session"
   ]
  },
  {
   "cell_type": "code",
   "execution_count": 1,
   "metadata": {
    "ExecuteTime": {
     "end_time": "2018-11-29T15:50:48.710215Z",
     "start_time": "2018-11-29T15:50:46.142325Z"
    }
   },
   "outputs": [],
   "source": [
    "import pandas as pd\n",
    "df = pd.read_csv('/Users/spark/pship/tripdata/top_app_search_user_query.csv')"
   ]
  },
  {
   "cell_type": "code",
   "execution_count": 2,
   "metadata": {
    "ExecuteTime": {
     "end_time": "2018-11-29T15:50:48.750725Z",
     "start_time": "2018-11-29T15:50:48.716536Z"
    }
   },
   "outputs": [
    {
     "data": {
      "text/html": [
       "<div>\n",
       "<style scoped>\n",
       "    .dataframe tbody tr th:only-of-type {\n",
       "        vertical-align: middle;\n",
       "    }\n",
       "\n",
       "    .dataframe tbody tr th {\n",
       "        vertical-align: top;\n",
       "    }\n",
       "\n",
       "    .dataframe thead th {\n",
       "        text-align: right;\n",
       "    }\n",
       "</style>\n",
       "<table border=\"1\" class=\"dataframe\">\n",
       "  <thead>\n",
       "    <tr style=\"text-align: right;\">\n",
       "      <th></th>\n",
       "      <th>user_nick</th>\n",
       "      <th>querysum</th>\n",
       "    </tr>\n",
       "  </thead>\n",
       "  <tbody>\n",
       "    <tr>\n",
       "      <th>0</th>\n",
       "      <td>liudaozhen1962</td>\n",
       "      <td>巴厘岛,巴厘岛,巴厘岛,巴厘岛,巴厘岛,巴厘岛,巴厘岛,巴厘岛,巴厘岛,巴厘岛,巴厘岛,巴厘...</td>\n",
       "    </tr>\n",
       "    <tr>\n",
       "      <th>1</th>\n",
       "      <td>坏坏坏女孩eva</td>\n",
       "      <td>香港广州,香港酒店,缅甸签证,泰国,香港酒店,香港酒店,香港,香港酒店,香港,香港广州,香港...</td>\n",
       "    </tr>\n",
       "    <tr>\n",
       "      <th>2</th>\n",
       "      <td>孙尚香123</td>\n",
       "      <td>海宁皮革城,海宁皮革城,海宁皮革城,海宁,海宁皮革城,埃及,埃及,埃及,埃及,埃及,埃及,埃...</td>\n",
       "    </tr>\n",
       "    <tr>\n",
       "      <th>3</th>\n",
       "      <td>晋晴1314</td>\n",
       "      <td>普吉自由行,普吉自由行,普吉自由行,普吉自由行,普吉自由行,普吉自由行,普吉自由行,普吉自由...</td>\n",
       "    </tr>\n",
       "    <tr>\n",
       "      <th>4</th>\n",
       "      <td>g1967650712</td>\n",
       "      <td>清莱,清莱,清莱,清莱,清莱,清莱,清莱,清莱,清莱,清莱,清莱,清莱,泰国,泰国清迈旅游,...</td>\n",
       "    </tr>\n",
       "  </tbody>\n",
       "</table>\n",
       "</div>"
      ],
      "text/plain": [
       "        user_nick                                           querysum\n",
       "0  liudaozhen1962  巴厘岛,巴厘岛,巴厘岛,巴厘岛,巴厘岛,巴厘岛,巴厘岛,巴厘岛,巴厘岛,巴厘岛,巴厘岛,巴厘...\n",
       "1        坏坏坏女孩eva  香港广州,香港酒店,缅甸签证,泰国,香港酒店,香港酒店,香港,香港酒店,香港,香港广州,香港...\n",
       "2          孙尚香123  海宁皮革城,海宁皮革城,海宁皮革城,海宁,海宁皮革城,埃及,埃及,埃及,埃及,埃及,埃及,埃...\n",
       "3          晋晴1314  普吉自由行,普吉自由行,普吉自由行,普吉自由行,普吉自由行,普吉自由行,普吉自由行,普吉自由...\n",
       "4     g1967650712  清莱,清莱,清莱,清莱,清莱,清莱,清莱,清莱,清莱,清莱,清莱,清莱,泰国,泰国清迈旅游,..."
      ]
     },
     "execution_count": 2,
     "metadata": {},
     "output_type": "execute_result"
    }
   ],
   "source": [
    "df.head()"
   ]
  },
  {
   "cell_type": "code",
   "execution_count": 3,
   "metadata": {
    "ExecuteTime": {
     "end_time": "2018-11-29T15:50:52.356498Z",
     "start_time": "2018-11-29T15:50:50.039688Z"
    }
   },
   "outputs": [
    {
     "data": {
      "text/html": [
       "<div>\n",
       "<style scoped>\n",
       "    .dataframe tbody tr th:only-of-type {\n",
       "        vertical-align: middle;\n",
       "    }\n",
       "\n",
       "    .dataframe tbody tr th {\n",
       "        vertical-align: top;\n",
       "    }\n",
       "\n",
       "    .dataframe thead th {\n",
       "        text-align: right;\n",
       "    }\n",
       "</style>\n",
       "<table border=\"1\" class=\"dataframe\">\n",
       "  <thead>\n",
       "    <tr style=\"text-align: right;\">\n",
       "      <th></th>\n",
       "      <th>user_nick</th>\n",
       "      <th>querysum</th>\n",
       "    </tr>\n",
       "  </thead>\n",
       "  <tbody>\n",
       "    <tr>\n",
       "      <th>count</th>\n",
       "      <td>715945</td>\n",
       "      <td>715945</td>\n",
       "    </tr>\n",
       "    <tr>\n",
       "      <th>unique</th>\n",
       "      <td>715945</td>\n",
       "      <td>379207</td>\n",
       "    </tr>\n",
       "    <tr>\n",
       "      <th>top</th>\n",
       "      <td>haoqixun1989</td>\n",
       "      <td>上海</td>\n",
       "    </tr>\n",
       "    <tr>\n",
       "      <th>freq</th>\n",
       "      <td>1</td>\n",
       "      <td>6184</td>\n",
       "    </tr>\n",
       "  </tbody>\n",
       "</table>\n",
       "</div>"
      ],
      "text/plain": [
       "           user_nick querysum\n",
       "count         715945   715945\n",
       "unique        715945   379207\n",
       "top     haoqixun1989       上海\n",
       "freq               1     6184"
      ]
     },
     "execution_count": 3,
     "metadata": {},
     "output_type": "execute_result"
    }
   ],
   "source": [
    "df.describe()"
   ]
  },
  {
   "cell_type": "code",
   "execution_count": 4,
   "metadata": {
    "ExecuteTime": {
     "end_time": "2018-11-29T15:50:52.543224Z",
     "start_time": "2018-11-29T15:50:52.360291Z"
    }
   },
   "outputs": [],
   "source": [
    "df = df.dropna()"
   ]
  },
  {
   "cell_type": "markdown",
   "metadata": {},
   "source": [
    "### 有效去重复\n",
    "\n",
    "从每个用户的query session中，获取20个 tag 词 \n",
    "未直接采用全部用户query做tag权重分析，可以避免个别用户产生大量的重复query干扰整体"
   ]
  },
  {
   "cell_type": "code",
   "execution_count": 5,
   "metadata": {
    "ExecuteTime": {
     "end_time": "2018-11-29T15:52:58.104345Z",
     "start_time": "2018-11-29T15:50:54.512166Z"
    },
    "scrolled": true
   },
   "outputs": [
    {
     "name": "stderr",
     "output_type": "stream",
     "text": [
      "Building prefix dict from the default dictionary ...\n",
      "Loading model from cache /var/folders/7s/wk98z9d51p1b9_40kcp0d3c00000gp/T/jieba.cache\n",
      "Loading model cost 1.168 seconds.\n",
      "Prefix dict has been built succesfully.\n"
     ]
    }
   ],
   "source": [
    "# %%timeit\n",
    "import jieba\n",
    "import jieba.analyse\n",
    "jieba.load_userdict('/Users/spark/pship/nlp/jieba/dict/trip.dict')#使用自定义旅行字典\n",
    "\n",
    "# e = d[:5000]\n",
    "\n",
    "def tags(content):\n",
    "    return','.join(jieba.analyse.extract_tags(content, topK=20))\n",
    "\n",
    "df['querytag'] = df.querysum.map(tags)\n"
   ]
  },
  {
   "cell_type": "code",
   "execution_count": 6,
   "metadata": {
    "ExecuteTime": {
     "end_time": "2018-11-29T15:52:58.124959Z",
     "start_time": "2018-11-29T15:52:58.107886Z"
    },
    "scrolled": true
   },
   "outputs": [
    {
     "data": {
      "text/html": [
       "<div>\n",
       "<style scoped>\n",
       "    .dataframe tbody tr th:only-of-type {\n",
       "        vertical-align: middle;\n",
       "    }\n",
       "\n",
       "    .dataframe tbody tr th {\n",
       "        vertical-align: top;\n",
       "    }\n",
       "\n",
       "    .dataframe thead th {\n",
       "        text-align: right;\n",
       "    }\n",
       "</style>\n",
       "<table border=\"1\" class=\"dataframe\">\n",
       "  <thead>\n",
       "    <tr style=\"text-align: right;\">\n",
       "      <th></th>\n",
       "      <th>user_nick</th>\n",
       "      <th>querysum</th>\n",
       "      <th>querytag</th>\n",
       "    </tr>\n",
       "  </thead>\n",
       "  <tbody>\n",
       "    <tr>\n",
       "      <th>0</th>\n",
       "      <td>liudaozhen1962</td>\n",
       "      <td>巴厘岛,巴厘岛,巴厘岛,巴厘岛,巴厘岛,巴厘岛,巴厘岛,巴厘岛,巴厘岛,巴厘岛,巴厘岛,巴厘...</td>\n",
       "      <td>巴厘岛,旅游,马尔代夫,新加坡,韩国,大溪地,水屋,济州岛,波德申,云南旅游,塞班岛,甲米,...</td>\n",
       "    </tr>\n",
       "    <tr>\n",
       "      <th>1</th>\n",
       "      <td>坏坏坏女孩eva</td>\n",
       "      <td>香港广州,香港酒店,缅甸签证,泰国,香港酒店,香港酒店,香港,香港酒店,香港,香港广州,香港...</td>\n",
       "      <td>香港,广州,八达通,签证,缅甸,泰国,酒店,百程,莲花山,美食,澳门,南沙,南丫岛,曼谷,越...</td>\n",
       "    </tr>\n",
       "    <tr>\n",
       "      <th>2</th>\n",
       "      <td>孙尚香123</td>\n",
       "      <td>海宁皮革城,海宁皮革城,海宁皮革城,海宁,海宁皮革城,埃及,埃及,埃及,埃及,埃及,埃及,埃...</td>\n",
       "      <td>埃及,印度,柬埔寨,清迈,塞班岛,泰国,马来西亚,新加坡,迪拜,旅游团,海宁,皮革</td>\n",
       "    </tr>\n",
       "    <tr>\n",
       "      <th>3</th>\n",
       "      <td>晋晴1314</td>\n",
       "      <td>普吉自由行,普吉自由行,普吉自由行,普吉自由行,普吉自由行,普吉自由行,普吉自由行,普吉自由...</td>\n",
       "      <td>自由行,首尔,韩国,三亚,普吉,长滩,澳门,日本,厦门,杭州,龙之梦,嘉兴,出发,美国</td>\n",
       "    </tr>\n",
       "    <tr>\n",
       "      <th>4</th>\n",
       "      <td>g1967650712</td>\n",
       "      <td>清莱,清莱,清莱,清莱,清莱,清莱,清莱,清莱,清莱,清莱,清莱,清莱,泰国,泰国清迈旅游,...</td>\n",
       "      <td>北海道,旅游,澳大利亚,清莱,澳洲,清迈,泰国,厦门,哈尔滨,俄罗斯,香格里拉,丽江</td>\n",
       "    </tr>\n",
       "  </tbody>\n",
       "</table>\n",
       "</div>"
      ],
      "text/plain": [
       "        user_nick                                           querysum  \\\n",
       "0  liudaozhen1962  巴厘岛,巴厘岛,巴厘岛,巴厘岛,巴厘岛,巴厘岛,巴厘岛,巴厘岛,巴厘岛,巴厘岛,巴厘岛,巴厘...   \n",
       "1        坏坏坏女孩eva  香港广州,香港酒店,缅甸签证,泰国,香港酒店,香港酒店,香港,香港酒店,香港,香港广州,香港...   \n",
       "2          孙尚香123  海宁皮革城,海宁皮革城,海宁皮革城,海宁,海宁皮革城,埃及,埃及,埃及,埃及,埃及,埃及,埃...   \n",
       "3          晋晴1314  普吉自由行,普吉自由行,普吉自由行,普吉自由行,普吉自由行,普吉自由行,普吉自由行,普吉自由...   \n",
       "4     g1967650712  清莱,清莱,清莱,清莱,清莱,清莱,清莱,清莱,清莱,清莱,清莱,清莱,泰国,泰国清迈旅游,...   \n",
       "\n",
       "                                            querytag  \n",
       "0  巴厘岛,旅游,马尔代夫,新加坡,韩国,大溪地,水屋,济州岛,波德申,云南旅游,塞班岛,甲米,...  \n",
       "1  香港,广州,八达通,签证,缅甸,泰国,酒店,百程,莲花山,美食,澳门,南沙,南丫岛,曼谷,越...  \n",
       "2          埃及,印度,柬埔寨,清迈,塞班岛,泰国,马来西亚,新加坡,迪拜,旅游团,海宁,皮革  \n",
       "3        自由行,首尔,韩国,三亚,普吉,长滩,澳门,日本,厦门,杭州,龙之梦,嘉兴,出发,美国  \n",
       "4         北海道,旅游,澳大利亚,清莱,澳洲,清迈,泰国,厦门,哈尔滨,俄罗斯,香格里拉,丽江  "
      ]
     },
     "execution_count": 6,
     "metadata": {},
     "output_type": "execute_result"
    }
   ],
   "source": [
    "df.head()"
   ]
  },
  {
   "cell_type": "markdown",
   "metadata": {},
   "source": [
    "### 权重词提取\n"
   ]
  },
  {
   "cell_type": "markdown",
   "metadata": {},
   "source": [
    "使用所有的用户的top 20 query tag，汇总计算关键词出现的权重"
   ]
  },
  {
   "cell_type": "code",
   "execution_count": 8,
   "metadata": {
    "ExecuteTime": {
     "end_time": "2018-11-29T15:54:09.972471Z",
     "start_time": "2018-11-29T15:53:31.638012Z"
    },
    "scrolled": false
   },
   "outputs": [
    {
     "name": "stdout",
     "output_type": "stream",
     "text": [
      "自由行 0.28530648621454635\n",
      "门票 0.17707583648037084\n",
      "温泉 0.15158897260839688\n",
      "旅游 0.14890574763899536\n",
      "一日游 0.1266516846160216\n",
      "泰国 0.10842970641468695\n",
      "三亚 0.10812184831689642\n",
      "厦门 0.10695954526080509\n",
      "酒店 0.09887719362416289\n",
      "长隆 0.0820285479693332\n",
      "上海 0.07917369460084639\n",
      "台湾 0.06964111051817574\n",
      "签证 0.0687098730822151\n",
      "北京 0.06754328607204396\n",
      "日本 0.06716998401093281\n",
      "韩国 0.06636275419281691\n",
      "马尔代夫 0.06522948827756436\n",
      "香港 0.06193421478732575\n",
      "杭州 0.05983696407325229\n",
      "广州 0.055085224243862516\n",
      "欢乐谷 0.054808017391979894\n",
      "成都 0.04886760098460921\n",
      "哈尔滨 0.04837198205379578\n",
      "黄山 0.04576461316339519\n",
      "九寨沟 0.042686236951448096\n",
      "丽江 0.042564663953708254\n",
      "珠海 0.0411535715914538\n",
      "南京 0.04048524212895173\n",
      "港澳 0.03977166213676667\n",
      "深圳 0.039770390419958834\n",
      "云南 0.038277095799736684\n",
      "西安 0.03785376072621682\n",
      "重庆 0.03563183205505705\n",
      "武汉 0.03549137995528356\n",
      "普吉岛 0.03383049064595467\n",
      "乌镇 0.03299365633737334\n",
      "长白山 0.03214147281804098\n",
      "张家界 0.03186644524558958\n",
      "澳门 0.03173563496702224\n",
      "巴厘岛 0.031473388003159464\n",
      "千岛湖 0.030555508515068937\n",
      "三亚旅游 0.030094293003255643\n",
      "苏州 0.029839576878723215\n",
      "西塘 0.029682882106838525\n",
      "大理 0.02864672754333205\n",
      "鼓浪屿 0.028327854410788066\n",
      "动物园 0.028139425944403676\n",
      "套票 0.026636298045246025\n",
      "青岛 0.02658017791010246\n",
      "汽车票 0.026478346931912637\n"
     ]
    }
   ],
   "source": [
    "alltags = jieba.analyse.extract_tags(','.join(df.querytag), topK=50,withWeight=1)\n",
    "for i in  alltags:\n",
    "    print(i[0],i[1])"
   ]
  }
 ],
 "metadata": {
  "kernelspec": {
   "display_name": "Python 3",
   "language": "python",
   "name": "python3"
  },
  "language_info": {
   "codemirror_mode": {
    "name": "ipython",
    "version": 3
   },
   "file_extension": ".py",
   "mimetype": "text/x-python",
   "name": "python",
   "nbconvert_exporter": "python",
   "pygments_lexer": "ipython3",
   "version": "3.7.0"
  },
  "nbTranslate": {
   "displayLangs": [],
   "hotkey": "alt-t",
   "langInMainMenu": true,
   "sourceLang": "en",
   "targetLang": "zh",
   "useGoogleTranslate": true
  },
  "toc": {
   "base_numbering": 1,
   "nav_menu": {},
   "number_sections": false,
   "sideBar": true,
   "skip_h1_title": false,
   "title_cell": "Table of Contents",
   "title_sidebar": "Contents",
   "toc_cell": false,
   "toc_position": {},
   "toc_section_display": true,
   "toc_window_display": false
  }
 },
 "nbformat": 4,
 "nbformat_minor": 1
}
